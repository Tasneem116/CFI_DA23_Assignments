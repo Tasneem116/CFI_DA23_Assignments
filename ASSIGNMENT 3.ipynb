{
  "nbformat": 4,
  "nbformat_minor": 0,
  "metadata": {
    "colab": {
      "provenance": [],
      "authorship_tag": "ABX9TyMijDcCy7JE3/+SQaSG6uUi",
      "include_colab_link": true
    },
    "kernelspec": {
      "name": "python3",
      "display_name": "Python 3"
    },
    "language_info": {
      "name": "python"
    }
  },
  "cells": [
    {
      "cell_type": "markdown",
      "metadata": {
        "id": "view-in-github",
        "colab_type": "text"
      },
      "source": [
        "<a href=\"https://colab.research.google.com/github/Tasneem116/CFI_DA23_Assignments/blob/main/ASSIGNMENT%203.ipynb\" target=\"_parent\"><img src=\"https://colab.research.google.com/assets/colab-badge.svg\" alt=\"Open In Colab\"/></a>"
      ]
    },
    {
      "cell_type": "markdown",
      "source": [
        "1Q. Find where the given number lies ?\n",
        "\n",
        "\n",
        "*   0-10, 10-20, 20-30, more than 30\n",
        "\n"
      ],
      "metadata": {
        "id": "ujXBDHUuy0-u"
      }
    },
    {
      "cell_type": "code",
      "source": [
        "a = int(input(\"enter a number: \"))\n",
        "if ((a > 0) and (a <= 10)):\n",
        "  print(f'{a} number lies between 0-10')\n",
        "elif (a <= 20):\n",
        "  print(f'{a} number lies between 10-20')\n",
        "elif (a <= 30):\n",
        "  print(f'{a} number lies between 20-30')\n",
        "else :\n",
        "  print(f'{a} number lies more than 30')"
      ],
      "metadata": {
        "id": "KWNk7F2kOREX",
        "colab": {
          "base_uri": "https://localhost:8080/"
        },
        "outputId": "005282c0-0a7e-4131-c6eb-fb4e9aaf2a85"
      },
      "execution_count": null,
      "outputs": [
        {
          "output_type": "stream",
          "name": "stdout",
          "text": [
            "enter a number: 23\n",
            "23 number lies between 20-30\n"
          ]
        }
      ]
    },
    {
      "cell_type": "markdown",
      "source": [
        "2Q. Roots  of the Quadratic equation?\n",
        "Nature of the roots?"
      ],
      "metadata": {
        "id": "Zl0s45CZcK6O"
      }
    },
    {
      "cell_type": "code",
      "execution_count": null,
      "metadata": {
        "id": "r2n-AuLP3pjz"
      },
      "outputs": [],
      "source": [
        "# 9 6 3\n",
        "a = int(input(\"enter operand 1: \"))\n",
        "b = int(input(\"enter operand 2: \"))\n",
        "c = int(input(\"enter operand 3: \"))\n",
        "\n",
        "dis = ((b**2) - (4*a*c))\n",
        "\n",
        "formula_neg = (- b - ((dis)**0.5)) /(2*a)\n",
        "print(formula_neg)\n",
        "\n",
        "formula_pos = (- b + ((dis)**0.5)) /(2*a)\n",
        "print(formula_pos)\n",
        "\n",
        "if (dis<0):\n",
        "  print(\"imaginary\")\n",
        "elif (dis>0):\n",
        "  print(\"real\")\n",
        "else:\n",
        "  print(\"equal\")\n"
      ]
    },
    {
      "cell_type": "markdown",
      "source": [
        "3Q WAP to calculate the area of triangle, square, circle?"
      ],
      "metadata": {
        "id": "jJax--q_cQ9V"
      }
    },
    {
      "cell_type": "code",
      "source": [
        "# Area of triangle\n",
        "b = int(input(\"To calculate area of triangle: \\nenter a base value: \"))\n",
        "h = int(input(\"enter a height value: \"))\n",
        "print(1/2*b*h,'\\n')\n",
        "\n",
        "# Area of Square\n",
        "side = int(input(\"To calculate area of square: \\nenter the side: \"))\n",
        "print(side*side,'\\n')\n",
        "\n",
        "# Area of circle\n",
        "r = int(input(\"To calculate area of circle: \\nenter a radius: \"))\n",
        "import math\n",
        "p = math.pi\n",
        "print(p*(r*r))\n"
      ],
      "metadata": {
        "id": "7NzGbVI9Oc-2"
      },
      "execution_count": null,
      "outputs": []
    },
    {
      "cell_type": "markdown",
      "source": [
        "4Q. Price = your_value\n",
        "quantity  = your_value\n",
        "amount = price * quantity\n",
        "\n",
        "amount =  ( 0 - 500 ) is low quality\n",
        "\n",
        "amount =  ( 501 - 1000 )is High quality\n",
        "\n",
        "amount =  ( 100 - 200 ) is cheaper cost\n",
        "\n",
        "amount =  ( 201 - 400 ) is good cost\n",
        "\n",
        "amount =  ( 401 - 800 ) is moderate cost\n",
        "\n",
        "amount =  ( 801 - 1000 )is costly"
      ],
      "metadata": {
        "id": "yJi3JcVscTu1"
      }
    },
    {
      "cell_type": "code",
      "source": [
        "price = int(input(\"enter the price: \"))\n",
        "quantity = int(input(\"enter the quantity: \"))\n",
        "amount = price * quantity\n",
        "print(amount)\n",
        "\n",
        "# quality\n",
        "if (amount) <= 500:\n",
        "  print(\"low quality\")\n",
        "elif (amount) >= 501 or (amount) <= 1000:\n",
        "  print(\"high quality\")\n",
        "\n",
        "# cost\n",
        "if (amount) == 100 or (amount) <= 200:\n",
        "  print(\"cheaper cost\")\n",
        "elif (amount) == 201 or (amount) <= 400:\n",
        "  print(\"good cost\")\n",
        "elif (amount) == 401 or (amount) <= 800:\n",
        "  print(\"moderate cost\")\n",
        "elif (amount) == 801 or (amount) > 1000:\n",
        "  print(\"costly\")"
      ],
      "metadata": {
        "id": "LDr_ZuXyOj5i",
        "colab": {
          "base_uri": "https://localhost:8080/"
        },
        "outputId": "ff823263-e8bc-4248-c764-6663d9b3aac1"
      },
      "execution_count": null,
      "outputs": [
        {
          "output_type": "stream",
          "name": "stdout",
          "text": [
            "enter the price: 345\n",
            "enter the quantity: 567\n",
            "195615\n",
            "high quality\n",
            "costly\n"
          ]
        }
      ]
    },
    {
      "cell_type": "markdown",
      "source": [
        "5Q. Any product costs 100 each in shopping mall\n",
        "\n",
        "There is a discount of 10% on the bill if customer shops more than 1000 rupees\n",
        "\n",
        "Hint- Ask user, how many products he purchased as input to your code.\n",
        "Tell the customer the final bill."
      ],
      "metadata": {
        "id": "phYy51o0cZ1-"
      }
    },
    {
      "cell_type": "code",
      "source": [
        "products = int(input(\"enter numbers of items you purchased: \"))\n",
        "\n",
        "costs = products*100\n",
        "bill_amt = costs* 0.9\n",
        "saved = costs - bill_amt\n",
        "\n",
        "if (costs) >= (1000):\n",
        "  print(f\"your total bill after getting 10% discount is {bill_amt}\\nCongratulations, you saved {saved}\" )\n",
        "else:\n",
        "  print(costs)\n"
      ],
      "metadata": {
        "id": "Dhd3kktlOvxE",
        "colab": {
          "base_uri": "https://localhost:8080/"
        },
        "outputId": "0904f7ec-dc5b-40b5-be7f-a439eda09288"
      },
      "execution_count": null,
      "outputs": [
        {
          "output_type": "stream",
          "name": "stdout",
          "text": [
            "enter numbers of itmes you purchased: 12\n",
            "your total bill after getting 10% discount is 1080.0\n",
            "Congratulations, you saved 120.0\n"
          ]
        }
      ]
    },
    {
      "cell_type": "markdown",
      "source": [
        "6Q. Check whether a triangle is a scalene/isosceles/equilateral triangle?"
      ],
      "metadata": {
        "id": "bKoAwG2UciwQ"
      }
    },
    {
      "cell_type": "code",
      "source": [
        "s1 = int(input(\"enter the side1: \"))\n",
        "s2 = int(input(\"enter the side2: \"))\n",
        "s3 = int(input(\"enter the side3: \"))\n",
        "\n",
        "if (s1==s2) and (s2!=s3) :\n",
        "  print('Triangle is a isosceles')\n",
        "elif (s1==s3) and (s2!=s3) :\n",
        "  print('Triangle is a isosceles')\n",
        "elif (s2==s3) and (s2!=s1):\n",
        "  print('Triangle is a isosceles')\n",
        "elif (s1==s2==s3):\n",
        "  print('Triangle is a equilateral')\n",
        "else:\n",
        "  print('Triangle is a scalene')\n"
      ],
      "metadata": {
        "id": "rQVOOVNBO1GV",
        "colab": {
          "base_uri": "https://localhost:8080/"
        },
        "outputId": "aa421afe-17e3-433f-ba11-472b09b4e912"
      },
      "execution_count": null,
      "outputs": [
        {
          "output_type": "stream",
          "name": "stdout",
          "text": [
            "enter the side1: 1\n",
            "enter the side2: 3\n",
            "enter the side3: 3\n",
            "Triangle is a isosceles\n"
          ]
        }
      ]
    },
    {
      "cell_type": "markdown",
      "source": [
        "7Q. students above 75% attendance should be allowed for exam\n",
        "\n",
        "students with permission are allowed though less than 75%"
      ],
      "metadata": {
        "id": "8GRViKOYclUh"
      }
    },
    {
      "cell_type": "code",
      "source": [
        "attnd = int(input(\"enter your total attendence: \"))\n",
        "\n",
        "# working days 230\n",
        "percentage = attnd/230*100\n",
        "\n",
        "if percentage >= 75:\n",
        "  print(\"you are allowed for exam.\")\n",
        "elif percentage < 75:\n",
        "  print(\"your attendence is less than 75% \")\n",
        "  allowed = input(\"Did you get the permisison (Yes/No): \")\n",
        "  if allowed.casefold() == \"yes\":\n",
        "    print(\"you're allowed to write the exam. \")\n",
        "  else:\n",
        "    print(\"sorry! you are not allowed to write the exam.\")\n",
        "else:\n",
        "  print(\"you are not allowed for exam.\")\n"
      ],
      "metadata": {
        "id": "GfogNg7FO-2l",
        "colab": {
          "base_uri": "https://localhost:8080/"
        },
        "outputId": "d7f8dac4-53ad-4c10-c3ea-2562301ac152"
      },
      "execution_count": null,
      "outputs": [
        {
          "output_type": "stream",
          "name": "stdout",
          "text": [
            "enter your total attendence: 122\n",
            "your attendence is less than 75% \n",
            "Did you get the permisison (Yes/No): no\n",
            "sorry! you are not allowed to write the exam.\n"
          ]
        }
      ]
    },
    {
      "cell_type": "markdown",
      "source": [
        "8Q. Build Mini calculator having functionalities\n",
        "- *, /, +, - , %, squareroot, exponentiation, floor, ceil\n"
      ],
      "metadata": {
        "id": "pt9gH6ZAc0V9"
      }
    },
    {
      "cell_type": "code",
      "source": [
        "import math\n",
        "print(\"welcome to mini calculator\")\n",
        "print(\"choose the operators : -, +, *, /, //, square root, ceil, exponentiation\")\n",
        "cal = input(\"enter the operator to calculate: \")\n",
        "\n",
        "if cal == \"square root\":\n",
        "  ssqrt = int(input('enter a number: '))\n",
        "  print(math.sqrt(ssqrt))\n",
        "elif cal == \"ceil\":\n",
        "  ceil = int(input('enter a number: '))\n",
        "  print(math.ceil(ceil))\n",
        "else:\n",
        "  num1 = int(input(\"enter operand 1: \"))\n",
        "  num2 = int(input(\"enter operand 2: \"))\n",
        "  if cal == \"+\":\n",
        "    print(num1+num2)\n",
        "  elif cal == \"-\":\n",
        "    print(num1-num2)\n",
        "  elif cal == \"-\":\n",
        "    print(num1-num2)\n",
        "  elif cal == \"*\":\n",
        "    print(num1*num2)\n",
        "  elif cal == \"/\":\n",
        "    print(num1/num2)\n",
        "  elif cal == \"//\":\n",
        "    print(num1//num2)\n",
        "  elif cal == \"exponentiation\":\n",
        "    print(num1**num2)\n",
        "# else:\n",
        "  # print(\"please enter the correct operator.\")\n",
        "\n"
      ],
      "metadata": {
        "id": "DI1uGxxU382V",
        "colab": {
          "base_uri": "https://localhost:8080/"
        },
        "outputId": "c5006e90-5f9c-4e4f-f439-8f505ebd5631"
      },
      "execution_count": null,
      "outputs": [
        {
          "output_type": "stream",
          "name": "stdout",
          "text": [
            "welcome to mini calculator\n",
            "choose the operators : -, +, *, /, //, square root, ceil, exponentiation\n",
            "enter the operator to calculate: -\n",
            "enter operand 1: 2\n",
            "enter operand 2: 1\n",
            "1\n"
          ]
        }
      ]
    },
    {
      "cell_type": "markdown",
      "source": [
        "9Q. Voter eligibility criteria\n",
        "1. What is your name? (Wish with User Name)\n",
        "2. Where are you from? (indian/others, only Indians are allowed to vote)\n",
        "3. Have you ever experienced voting before? (Yes/No)\n",
        "4. Would you like to Vote? (Yes/No)\n",
        "5. Which Year-Month-Day were you born? (DAY/MONTH/YEAR ,Calculate age)\n",
        "6. Did you like our project? (Yes/No)\n",
        "7. Please give us rating out of 5? => less than 5 ratings give 'we will try better' else 'thanks'"
      ],
      "metadata": {
        "id": "qPdFNlzgc7SS"
      }
    },
    {
      "cell_type": "code",
      "source": [
        "from datetime import date\n",
        "\n",
        "print(\"Voter eligibility criteria\")\n",
        "\n",
        "name = input(\"enter your name please: \")\n",
        "print(f\"welcome {name.capitalize()}\")\n",
        "\n",
        "country = input(\"where are you from, INDIAN/OTHERS: \")\n",
        "\n",
        "if country.upper() == \"INDIAN\":\n",
        "  print(\"you are eligibile to vote\")\n",
        "\n",
        "  exp = input(\"Have you ever experienced voting before? \\n (Yes/No) \")\n",
        "\n",
        "  if exp.capitalize() == \"Yes\":\n",
        "    print(\"glad to hear that\")\n",
        "  else:\n",
        "    print(\"No worry\")\n",
        "\n",
        "  like = input(\"Would you like to Vote? (Yes/No) \")\n",
        "\n",
        "  if like.capitalize() == \"No\":\n",
        "      print(\"thank you for visiting us, have a good day! \")\n",
        "  elif like.capitalize() == \"Yes\":\n",
        "      print(\"glad to hear that, lets continue with our process\")\n",
        "\n",
        "      age_cri= input(\"Which Year-Month-Day were you born? (DAY/MONTH/YEAR) \")\n",
        "\n",
        "      year = age_cri.split(\"/\")\n",
        "      b = int(year[2])\n",
        "      date = date.today()\n",
        "      y1 = date.year - b\n",
        "      if y1 >= 18:\n",
        "        print(\"you are eligible for voting!\")\n",
        "      else:\n",
        "        print(\"sorry, but you are not eligible for voting!\")\n",
        "else:\n",
        "  print(\"sorry, you are not eligible to vote\")\n",
        "\n",
        "#feedback\n",
        "opinion = input(\"\\nDid you like our project? (Yes/No) \")\n",
        "if opinion.capitalize() == \"Yes\":\n",
        "  print(f\"glad to hear that {name}\")\n",
        "else :\n",
        "  print(f\"we'll try to improve\")\n",
        "\n",
        "rating = int(input(\"Please give us rating out of 5? \"))\n",
        "if rating == 5:\n",
        "  print(f\"Thanks, have a nice day {name}\" )\n",
        "else:\n",
        "    print(f\"we'll try better, have a nice day {name}\")"
      ],
      "metadata": {
        "id": "n0ZzNx-n4A-D"
      },
      "execution_count": null,
      "outputs": []
    },
    {
      "cell_type": "markdown",
      "source": [
        "10Q. Find greatest number among three numbers?\n",
        "ex: a,b,c are numbers\n",
        "i) a is greater\n",
        "ii) b is greater\n",
        "iii) c is greater\n",
        "iv) a, b are greater\n",
        "v) a,c are greater\n",
        "vi) b,c are greater\n",
        "vii) all are equal"
      ],
      "metadata": {
        "id": "K0nO7Evkc_ue"
      }
    },
    {
      "cell_type": "code",
      "source": [
        "a = int(input(\"enter a value: \"))\n",
        "b = int(input(\"enter b value: \"))\n",
        "c = int(input(\"enter c value: \"))\n",
        "\n",
        "if (a>b) and (a>c):\n",
        "  print(\"a is greater \")\n",
        "elif (b>a) and (b>c):\n",
        "  print(\"b is greater \")\n",
        "elif (c>a) and (c>b):\n",
        "  print(\"c is greater\")\n",
        "if  (a>c) and (b>c):\n",
        "  print(\"a, b are greater than c \")\n",
        "elif (a>b) and (c>b):\n",
        "  print(\"a, c are greater than b \")\n",
        "elif (b>a) and (c>a):\n",
        "  print(\"b, c are greater than a \")\n",
        "else:\n",
        "    print(\"all are equal\")\n"
      ],
      "metadata": {
        "id": "HT2UtzNC5tZ5",
        "colab": {
          "base_uri": "https://localhost:8080/"
        },
        "outputId": "d08aec9c-240b-4bfc-a9cc-ca5cafb1d5be"
      },
      "execution_count": null,
      "outputs": [
        {
          "output_type": "stream",
          "name": "stdout",
          "text": [
            "enter a value: 32\n",
            "enter b value: 67\n",
            "enter c value: 23\n",
            "b is greater \n",
            "a, b are greater than c \n"
          ]
        }
      ]
    }
  ]
}